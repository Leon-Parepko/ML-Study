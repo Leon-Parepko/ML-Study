{
 "cells": [
  {
   "cell_type": "markdown",
   "id": "d67a470f",
   "metadata": {
    "pycharm": {
     "name": "#%% md\n"
    }
   },
   "source": [
    "# Задача классификации\n",
    "\n",
    "Отличительной особенностью задачи классификации от задачи регрессии является область значений целевой переменной. Если в задаче регрессии целевая переменная $y$ принимала вещественные значения, то в задаче классификации $y$ принадлежит конечному дискретному множеству.\n",
    "\n",
    "В случае, когда моножество значений состоят всего из 2-х элементов говорят о задаче бинарной классификации."
   ]
  },
  {
   "cell_type": "markdown",
   "id": "925d7cbd",
   "metadata": {
    "pycharm": {
     "name": "#%% md\n"
    }
   },
   "source": [
    "## Пример. Задача опеределения поддельных банкнот\n",
    "\n",
    "С описание этого набора данных можно ознакомиться по [ссылке](https://archive.ics.uci.edu/ml/datasets/banknote+authentication#).\n",
    "\n",
    "В нем описывается задача классификации банкнот на настоящие (класс 0) и фальшивые (класс 1). Каждая банкнота описывается 4-мя числовыми признаками, которые получены путем применения различных вейвлетных преобразований к фотографиям банкноты.\n",
    "\n",
    "Имеются следующие признаки:\n",
    "* variance (разброс)\n",
    "* skewness (ассиметрия)\n",
    "* curtosis (эксцесс)\n",
    "* entropy (энтропия)\n",
    "\n",
    "Целевая переменная задача в столбце *class* и принимает значения 0 или 1."
   ]
  },
  {
   "cell_type": "markdown",
   "id": "80a2f12a",
   "metadata": {
    "pycharm": {
     "name": "#%% md\n"
    }
   },
   "source": [
    "## Разведывательный анализ данных"
   ]
  },
  {
   "cell_type": "markdown",
   "id": "0d35ef61",
   "metadata": {
    "pycharm": {
     "name": "#%% md\n"
    }
   },
   "source": [
    "Загрузим описанный выше набор данных и изучим его характеристики"
   ]
  },
  {
   "cell_type": "code",
   "execution_count": 1,
   "outputs": [],
   "source": [
    "import numpy as np\n",
    "# import scipy.linalg as sla\n",
    "import matplotlib.pyplot as plt\n",
    "\n",
    "# from sklearn import datasets\n",
    "# from sklearn.linear_model import LinearRegression, Lasso, Ridge\n",
    "from sklearn.model_selection import train_test_split\n",
    "from sklearn.metrics import mean_squared_error as mse"
   ],
   "metadata": {
    "collapsed": false,
    "pycharm": {
     "name": "#%%\n"
    }
   }
  },
  {
   "cell_type": "code",
   "execution_count": 2,
   "id": "715a14cc",
   "metadata": {
    "pycharm": {
     "name": "#%%\n"
    }
   },
   "outputs": [
    {
     "data": {
      "text/plain": "   variance  skewness  curtosis  entropy  class\n0   3.62160    8.6661   -2.8073 -0.44699      0\n1   4.54590    8.1674   -2.4586 -1.46210      0\n2   3.86600   -2.6383    1.9242  0.10645      0\n3   3.45660    9.5228   -4.0112 -3.59440      0\n4   0.32924   -4.4552    4.5718 -0.98880      0",
      "text/html": "<div>\n<style scoped>\n    .dataframe tbody tr th:only-of-type {\n        vertical-align: middle;\n    }\n\n    .dataframe tbody tr th {\n        vertical-align: top;\n    }\n\n    .dataframe thead th {\n        text-align: right;\n    }\n</style>\n<table border=\"1\" class=\"dataframe\">\n  <thead>\n    <tr style=\"text-align: right;\">\n      <th></th>\n      <th>variance</th>\n      <th>skewness</th>\n      <th>curtosis</th>\n      <th>entropy</th>\n      <th>class</th>\n    </tr>\n  </thead>\n  <tbody>\n    <tr>\n      <th>0</th>\n      <td>3.62160</td>\n      <td>8.6661</td>\n      <td>-2.8073</td>\n      <td>-0.44699</td>\n      <td>0</td>\n    </tr>\n    <tr>\n      <th>1</th>\n      <td>4.54590</td>\n      <td>8.1674</td>\n      <td>-2.4586</td>\n      <td>-1.46210</td>\n      <td>0</td>\n    </tr>\n    <tr>\n      <th>2</th>\n      <td>3.86600</td>\n      <td>-2.6383</td>\n      <td>1.9242</td>\n      <td>0.10645</td>\n      <td>0</td>\n    </tr>\n    <tr>\n      <th>3</th>\n      <td>3.45660</td>\n      <td>9.5228</td>\n      <td>-4.0112</td>\n      <td>-3.59440</td>\n      <td>0</td>\n    </tr>\n    <tr>\n      <th>4</th>\n      <td>0.32924</td>\n      <td>-4.4552</td>\n      <td>4.5718</td>\n      <td>-0.98880</td>\n      <td>0</td>\n    </tr>\n  </tbody>\n</table>\n</div>"
     },
     "execution_count": 2,
     "metadata": {},
     "output_type": "execute_result"
    }
   ],
   "source": [
    "import pandas as pd\n",
    "\n",
    "dataset_url = 'https://archive.ics.uci.edu/ml/machine-learning-databases/00267/data_banknote_authentication.txt'\n",
    "\n",
    "ds = pd.read_csv(dataset_url,\n",
    "                 names = [\n",
    "                     'variance',\n",
    "                     'skewness',\n",
    "                     'curtosis',\n",
    "                     'entropy',\n",
    "                     'class',\n",
    "                 ],\n",
    "                )\n",
    "ds.head()"
   ]
  },
  {
   "cell_type": "markdown",
   "id": "7df9039a",
   "metadata": {
    "pycharm": {
     "name": "#%% md\n"
    }
   },
   "source": [
    "## Визуализация классов\n",
    "Для простоты будем рассматривать только 2 признака: разброс (variance) и ассиметрию (skewness). \n",
    "\n",
    "Потсроим график по этим двум признакам и раскрасим точки, принадлежащие разным классам с помощью различных цветов."
   ]
  },
  {
   "cell_type": "code",
   "execution_count": 2,
   "id": "059d09b4",
   "metadata": {
    "pycharm": {
     "name": "#%%\n"
    }
   },
   "outputs": [],
   "source": []
  },
  {
   "cell_type": "markdown",
   "id": "9d4d245d",
   "metadata": {
    "pycharm": {
     "name": "#%% md\n"
    }
   },
   "source": [
    "На графике хорошо видно, что имеется два распределения, которые пересекаются между собой. \n",
    "\n",
    "Для решения задачи классификации нам необходимо построить решающее правило. В данном случае его можно представить в виде прямой на плоскости, которая \"наилучшим\" способом разделит распределения. После чего все точки по одной стороне от прямой можно считать принадлежащими классу 0, а по другую сторону - классу 1.\n",
    "\n",
    "При этом возникают следующие вопросы:\n",
    "\n",
    "* как вычислить коэффициенты этой прямой?\n",
    "* что означает \"наилучшим\" способом разделит?\n",
    "\n",
    "Попробуем нарисовать несколько таких прямых."
   ]
  },
  {
   "cell_type": "code",
   "execution_count": 3,
   "id": "248e7be3",
   "metadata": {
    "pycharm": {
     "name": "#%%\n"
    }
   },
   "outputs": [
    {
     "data": {
      "text/plain": "<Figure size 432x288 with 1 Axes>",
      "image/png": "[encoded data removed]"
     },
     "metadata": {
      "needs_background": "light"
     },
     "output_type": "display_data"
    }
   ],
   "source": [
    "import numpy as np\n",
    "\n",
    "lines = [([0, -5], 'g'),\n",
    "         ([-3, -4], 'y')]\n",
    "\n",
    "for line in lines:\n",
    "    x = np.linspace(-6, 6, 100)\n",
    "    y = line[0][0] + x*line[0][1]\n",
    "    plt.plot(x, y, color=line[1], alpha=0.8)\n",
    "plt.ylim((-15, 15));"
   ]
  },
  {
   "cell_type": "markdown",
   "id": "eda7f811",
   "metadata": {
    "pycharm": {
     "name": "#%% md\n"
    }
   },
   "source": [
    "Из графика видно, что какую-бы прямую мы не выбрали всегда будут точки из обучающей выборки, на которых классификатор будет давать неверный результат. Вычислить для преведенных выше двух прямых такую характеристику как точность (accuracy), которая предсатвляет собой нормированное на единицу число правильных решений классификатора."
   ]
  },
  {
   "cell_type": "code",
   "execution_count": 4,
   "id": "89f2db3b",
   "metadata": {
    "pycharm": {
     "name": "#%%\n"
    }
   },
   "outputs": [
    {
     "name": "stdout",
     "output_type": "stream",
     "text": [
      "Точность для зеленой прямой: 0.873\n",
      "Точность для желтой прямой: 0.848\n"
     ]
    }
   ],
   "source": [
    "from sklearn.metrics import accuracy_score\n",
    "\n",
    "acc = []\n",
    "for line in lines:\n",
    "    pred = ds['skewness'] - line[0][1]*ds['variance'] - line[0][0] < 0\n",
    "    acc.append(accuracy_score(ds['class'], pred))\n",
    "\n",
    "print(f\"Точность для зеленой прямой: {acc[0]:.3}\")\n",
    "print(f\"Точность для желтой прямой: {acc[1]:.3}\")"
   ]
  },
  {
   "cell_type": "markdown",
   "id": "9da23f60",
   "metadata": {
    "pycharm": {
     "name": "#%% md\n"
    }
   },
   "source": [
    "## Логистическая регрессия"
   ]
  },
  {
   "cell_type": "markdown",
   "id": "9698436b",
   "metadata": {
    "pycharm": {
     "name": "#%% md\n"
    }
   },
   "source": [
    "Сравнивая результаты мы видим, что точность для зеленой прямой выше, а следовательсно, с точки зрения данного критерия, это решаюшее правило \"лучше\" желтой прямой.\n",
    "\n",
    "Подобные рассуждения приводят нас к следующей формальной постановке задачи: следует поставить задачу оптимизации, где в качестве варьируемых параметров будут параметры разделяющей прямой, а в качестве минимизируемой функции - функция обратная к точности.\n",
    "\n",
    "Попробуем записать это в формальной нотации и сразу для $n$-мерного случая.\n",
    "\n",
    "Пусть $\\theta = (\\theta_0, \\theta_1, \\dots, \\theta_n)$ - коэффициенты канонического представления гиперплоскости (для двумерного случая - это будет прямая).\n",
    "\n",
    "$x = (1, x_1, x_2, \\dots, x_n)$ - расширенный вектор признаков (с дополнительной единицей).\n",
    "\n",
    "\n",
    "Будем называть один из классов - положительными примерами, а другой - отрицательными. Пусть целевая переменая $y$ принимает значение $1$ для примеров из положительного класса, и значение $0$ для примеров из отрицательного класса.\n",
    "\n",
    "\n",
    "Сформулируем гипотезу $h_\\theta(x)$ так, чтобы область ее значений лежала в отрезке $[0, 1]$, а область значений совпадала с $\\mathbb{R}$. Из функций, которые обладаюст подобными свойствами выделим и рассмотрим логистическую кривую\n",
    "$$\n",
    "\\sigma(z) = \\frac{1}{1 + e^{-z}}.\n",
    "$$"
   ]
  },
  {
   "cell_type": "code",
   "execution_count": 5,
   "id": "98c9561d",
   "metadata": {
    "pycharm": {
     "name": "#%%\n"
    }
   },
   "outputs": [
    {
     "data": {
      "text/plain": "<Figure size 432x288 with 1 Axes>",
      "image/png": "[encoded data removed]"
     },
     "metadata": {
      "needs_background": "light"
     },
     "output_type": "display_data"
    }
   ],
   "source": [
    "z = np.linspace(-10, 10, 100)\n",
    "sigma = 1/(1+np.exp(-z))\n",
    "plt.plot(z, sigma)\n",
    "plt.ylim(-0.1, 1.1)\n",
    "plt.xlabel('$z$')\n",
    "plt.title('График логистической функции $\\sigma(z)$');"
   ]
  },
  {
   "cell_type": "markdown",
   "id": "5fda4eb8",
   "metadata": {
    "pycharm": {
     "name": "#%% md\n"
    }
   },
   "source": [
    "Запишем гипотезу $h_\\theta(x)$ с помощью логистической функции $\\sigma(z)$ в виде\n",
    "$$\n",
    "h_\\theta(x) = \\sigma(\\theta^Tx).\n",
    "$$\n",
    "\n",
    "Значение гипотезы $h_\\theta(x)$ будем трактовать как вероятность того, что объект, описываемый вектором признаков $x$, принадлежит к положительному классу $h_\\theta(x) = P(y=1 |~x; \\theta)$. Соответственно $1 - h_\\theta(x) = P(y = 0 |~x; \\theta)$ - вероятность тогоа, что объект принадлежит к отрицательному классу."
   ]
  },
  {
   "cell_type": "markdown",
   "id": "ef02ea50",
   "metadata": {
    "pycharm": {
     "name": "#%% md\n"
    }
   },
   "source": [
    "## Пример. смесь нормальных распределений\n",
    "\n",
    "В качестве иллюстрирующего примера рассмотрим задачу классификации, в которой примеры обучающей выборки имеют одномерный признак и соответсвуют двум нормальным распределениями"
   ]
  },
  {
   "cell_type": "code",
   "execution_count": 6,
   "id": "a8a9dd1a",
   "metadata": {
    "pycharm": {
     "name": "#%%\n"
    }
   },
   "outputs": [
    {
     "data": {
      "text/plain": "Text(0.5, 1.0, 'Разделение двух распределений')"
     },
     "execution_count": 6,
     "metadata": {},
     "output_type": "execute_result"
    },
    {
     "data": {
      "text/plain": "<Figure size 432x288 with 1 Axes>",
      "image/png": "[encoded data removed]"
     },
     "metadata": {
      "needs_background": "light"
     },
     "output_type": "display_data"
    }
   ],
   "source": [
    "import math\n",
    "from scipy.stats import norm\n",
    "\n",
    "np.random.seed(10)\n",
    "\n",
    "mean_0 = 0.7\n",
    "std_0 = 0.3\n",
    "\n",
    "mean_1 = -0.5\n",
    "std_1 = 0.4\n",
    "\n",
    "nsamples_0 = 100\n",
    "nsamples_1 = 100\n",
    "\n",
    "samples_0 = mean_0 + math.sqrt(std_0)*np.random.randn(nsamples_0)\n",
    "samples_1 = mean_1 + math.sqrt(std_1)*np.random.randn(nsamples_1)\n",
    "\n",
    "x_0 = np.linspace(mean_0 - 5*std_0, mean_0 + 5*std_0, 100)\n",
    "x_1 = np.linspace(mean_1 - 5*std_1, mean_1 + 5*std_1, 100)\n",
    "\n",
    "\n",
    "from sklearn.linear_model import LogisticRegression\n",
    "\n",
    "clf = LogisticRegression().fit(np.hstack((samples_0, samples_1)).reshape(-1, 1),\n",
    "                               np.hstack(([1]*nsamples_0, [0]*nsamples_1)))\n",
    "theta_0 = clf.intercept_[0]\n",
    "theta_1 = clf.coef_[0][0]\n",
    "\n",
    "x = np.linspace(mean_1 - 5*std_1, mean_0 + 5*std_0)\n",
    "sigma = 1/(1 + np.exp(-(theta_0 + theta_1*x)))\n",
    "\n",
    "draw_samples = 25\n",
    "\n",
    "plt.scatter(x = np.random.choice(samples_0, draw_samples), y = [0]*draw_samples, color='red', s=20)\n",
    "plt.plot(x_0, norm.pdf(x_0, mean_0, std_0), color='red', alpha=0.6)\n",
    "\n",
    "plt.scatter(x = np.random.choice(samples_1, draw_samples), y = [0]*draw_samples, color='blue', s=20)\n",
    "plt.plot(x_1, norm.pdf(x_1, mean_1, std_1), color='blue', alpha=0.6)\n",
    "\n",
    "plt.plot(x, sigma, color='orange')\n",
    "plt.axhline(0.5, color='black', linestyle='--')\n",
    "plt.axvline(-theta_0/theta_1, color='black', linestyle='--')\n",
    "plt.text(-theta_0/theta_1 + 0.2, -0.1, '$P(y=1|x) > 0.5$')\n",
    "plt.text(-theta_0/theta_1 - 1.3, -0.1, '$P(y=1|x) < 0.5$')\n",
    "plt.title('Разделение двух распределений')"
   ]
  },
  {
   "cell_type": "markdown",
   "id": "94b69b66",
   "metadata": {
    "pycharm": {
     "name": "#%% md\n"
    }
   },
   "source": [
    "## Функция потерь\n",
    "\n",
    "Использование такой же функци потерь, что и для метода линейной регресси, т.е. среднеквадратичная ошибка осложнено тем фактом, что при использовании неинейной гипотезы $h_\\theta(x)$ нет гарантии, что функция потерь вида\n",
    "$$\n",
    "L(\\theta) = \\frac{1}{2n}\\sum\\limits_{i=1}^{n}\\left(h_\\theta(x^{(i)}) - y^{(i)}\\right)^2\n",
    "$$\n",
    "будет иметь выпуклый вид.\n",
    "\n",
    "Проверим это утверждение на примере классификации по росту и весу на мужчин и женщин. Упростим для наглядности задачу и будем рассматривать только рост. В качестве гипотезы рассмотрим однопараметрическую функцию $h_\\theta(x) = \\theta x$ без свободнго параметра. Построим график $L(\\theta)$"
   ]
  },
  {
   "cell_type": "code",
   "execution_count": 7,
   "id": "abd67eaa",
   "metadata": {
    "pycharm": {
     "name": "#%%\n"
    }
   },
   "outputs": [],
   "source": [
    "def mse(theta, x, y):\n",
    "    n = len(y)\n",
    "    def sigma(z):\n",
    "        return 1/(1 + np.exp(-z))\n",
    "    return 1/(2*n)*np.sum((sigma(theta*x) - y)**2)"
   ]
  },
  {
   "cell_type": "code",
   "execution_count": 8,
   "id": "206bb1e2",
   "metadata": {
    "pycharm": {
     "name": "#%%\n"
    }
   },
   "outputs": [
    {
     "data": {
      "text/plain": "<Figure size 432x288 with 1 Axes>",
      "image/png": "[encoded data removed]"
     },
     "metadata": {
      "needs_background": "light"
     },
     "output_type": "display_data"
    }
   ],
   "source": [
    "x = ds['variance']\n",
    "y = ds['class']\n",
    "\n",
    "theta = np.linspace(-10, 10, 100)\n",
    "L = [mse(th, x, y) for th in theta]\n",
    "plt.plot(theta, L)\n",
    "plt.xlabel('$\\\\theta$')\n",
    "plt.ylabel('$L(\\\\theta)$')\n",
    "plt.title('График квадратичной функции потерь для задачи классификации');"
   ]
  },
  {
   "cell_type": "markdown",
   "id": "b3a04594",
   "metadata": {
    "pycharm": {
     "name": "#%% md\n"
    }
   },
   "source": [
    "## Логистическая  функция потерь\n",
    "\n",
    "Рассмотрим в качестве функции потерь для метода логистической регресии выражение вида\n",
    "$$\n",
    "L(\\theta) = - \\frac{1}{n}\\sum\\limits_{i=1}^n\\begin{cases}\n",
    "\\log (1-h_\\theta(x^{(i)})),&& y^{(i)} = 0 \\\\\n",
    "\\log h_\\theta(x^{(i)}),&& y^{(i)} = 1.\n",
    "\\end{cases}\n",
    "$$\n",
    "\n",
    "Для понимания вида $L(\\theta)$ рассмотрим как ведут себя слагаемые для $y = 0$ и $y = 1$ по отдельности."
   ]
  },
  {
   "cell_type": "code",
   "execution_count": 9,
   "id": "1ac5e642",
   "metadata": {
    "pycharm": {
     "name": "#%%\n"
    }
   },
   "outputs": [
    {
     "data": {
      "text/plain": "Text(0.5, 1.0, '$y = 1, -\\\\log h_\\\\theta(x^{(i)})$')"
     },
     "execution_count": 9,
     "metadata": {},
     "output_type": "execute_result"
    },
    {
     "data": {
      "text/plain": "<Figure size 1152x360 with 2 Axes>",
      "image/png": "[encoded data removed]"
     },
     "metadata": {
      "needs_background": "light"
     },
     "output_type": "display_data"
    }
   ],
   "source": [
    "fig, ax = plt.subplots(1, 2, figsize=(16, 5))\n",
    "h = np.linspace(0.01, 0.99, 100)\n",
    "ax[0].plot(h, -np.log(1 - h))\n",
    "ax[0].set_xlabel('$h_{\\\\theta}(x)$')\n",
    "ax[0].set_title('$y = 0, -\\\\log (1-h_\\\\theta(x^{(i)}))$')\n",
    "ax[1].plot(h, -np.log(h))\n",
    "ax[1].set_xlabel('$h_{\\\\theta}(x)$')\n",
    "ax[1].set_title('$y = 1, -\\\\log h_\\\\theta(x^{(i)})$')"
   ]
  },
  {
   "cell_type": "markdown",
   "id": "59e92d9a",
   "metadata": {
    "pycharm": {
     "name": "#%% md\n"
    }
   },
   "source": [
    "На левом графике хорошо видно, что в случае, когда истинный класс ($y = 0$), то данная функция потерь награждает нас, когда гипотеза $h_\\theta(x) \\rightarrow 0$ и штрафует, когда $h_\\theta(x) \\rightarrow 1$. В случае другого класса $(y = 1$) все с точностью до наоборот. Функция потерь награждает нас при $h_\\theta(x) \\rightarrow 1$ и штрафует при $h_\\theta(x) \\rightarrow 0$.\n",
    "\n",
    "Посмотрим как выглядит сумма подобных штрафов для всей обучающей выборки в зависимости от параметра $\\theta$."
   ]
  },
  {
   "cell_type": "code",
   "execution_count": 10,
   "id": "fe905dd1",
   "metadata": {
    "pycharm": {
     "name": "#%%\n"
    }
   },
   "outputs": [],
   "source": [
    "def logloss(theta, x, y):\n",
    "    n = len(y)\n",
    "    def sigma(z):\n",
    "        return 1/(1 + np.exp(-z))\n",
    "    return -1/n*np.sum(y*np.log(sigma(theta*x)) + (1-y)*np.log(1 - sigma(theta*x)))"
   ]
  },
  {
   "cell_type": "code",
   "execution_count": 11,
   "id": "29bda978",
   "metadata": {
    "pycharm": {
     "name": "#%%\n"
    }
   },
   "outputs": [
    {
     "name": "stderr",
     "output_type": "stream",
     "text": [
      "/home/leon/Projects/Programming/Study/Python/ML_Study/Linear Models/venv/lib/python3.7/site-packages/pandas/core/arraylike.py:364: RuntimeWarning: divide by zero encountered in log\n",
      "  result = getattr(ufunc, method)(*inputs, **kwargs)\n"
     ]
    },
    {
     "data": {
      "text/plain": "<Figure size 432x288 with 1 Axes>",
      "image/png": "[encoded data removed]"
     },
     "metadata": {
      "needs_background": "light"
     },
     "output_type": "display_data"
    }
   ],
   "source": [
    "x = ds['variance']\n",
    "y = ds['class']\n",
    "\n",
    "theta = np.linspace(-10, 10, 100)\n",
    "L = [logloss(th, x, y) for th in theta]\n",
    "plt.plot(theta, L)\n",
    "plt.xlabel('$\\\\theta$')\n",
    "plt.ylabel('$L(\\\\theta)$')\n",
    "plt.title('График логистической функции потерь для задачи классификации');"
   ]
  },
  {
   "cell_type": "markdown",
   "id": "6c99d31b",
   "metadata": {
    "pycharm": {
     "name": "#%% md\n"
    }
   },
   "source": [
    "Из графика хорошо видно, что построенная функция потерь имеет выпуклый вид, а следовательно для нахождения ее минимума хорошо подойдет метод градиетного спуска.\n",
    "\n",
    "Для этого найдем перепишем функцию потерь в эквивалентном виде\n",
    "$$\n",
    "L(\\theta) = -\\frac{1}{n}\\sum\\limits_{i=1}^n\\left[y^{(i)}\\log h_\\theta(x^{(i)}) + (1 - y^{(i)})\\log\\left(1 - h_\\theta(x^{(i)})\\right)\\right] = -\\frac{1}{n}\\sum\\limits_{i=1}^n\\left[y^{(i)}\\log \\sigma(\\theta^Tx^{(i)}) + (1 - y^{(i)})\\log\\left(1 - \\sigma(\\theta^Tx^{(i)})\\right)\\right].\n",
    "$$\n",
    "\n",
    "И найдем ее производную \n",
    "$$\n",
    "\\frac{\\partial L}{\\partial \\theta_j} = -\\frac{1}{n}\\sum\\limits_{i=1}^n \\left[ \\frac{ y^{(i)} \\sigma'(\\theta^Tx^{(i)})}{\\sigma(\\theta^T x^{(i)})}  - \\frac{(1 - y^{(i)}) \\sigma'(\\theta^Tx^{(i)})}{1 - \\sigma(\\theta^T x^{(i)})}\\right] x_j^{(i)}.\n",
    "$$\n",
    "Учитывая, что\n",
    "$$\n",
    "\\sigma'(z) = \\left(\\frac{1}{1 + e^{-z}}\\right)' = \\frac{e^{-z}}{(1 + e^{-z})^2} = \\frac{1 - 1 + e^{-z}}{(1 + e^{-z})^2} = \\frac{1}{1 + e^{-z}} \\left(1 - \\frac{1}{1 + e^{-z}}\\right) = \\sigma(z)(1 - \\sigma(z)),\n",
    "$$\n",
    "получаем\n",
    "$$\n",
    "\\frac{\\partial L}{\\partial \\theta_j} = -\\frac{1}{n}\\sum\\limits_{i=1}^n \\left[y^{(i)}(1 - \\sigma(\\theta^Tx^{(i)})) - \n",
    "(1 - y^{(i)})\\sigma(\\theta^Tx^{(i)})\\right]x_j^{(i)} = -\\frac{1}{n}\\sum\\limits_{i=1}^n \\left[y^{(i)} - \n",
    "\\sigma(\\theta^Tx^{(i)}) \\right]x_j^{(i)}.\\quad j = \\overline{1,m}.\n",
    "$$\n",
    "\n",
    "Или в матричном виде\n",
    "\n",
    "$$\n",
    "grad ~ L(\\theta) = \\frac{1}{n}X^T(\\sigma(X\\theta^T) - y).\n",
    "$$\n",
    "\n",
    "Здесь мы считаем, что $\\sigma$ применяется к каждому элементу вектора $X\\theta^T$."
   ]
  },
  {
   "cell_type": "markdown",
   "id": "d503a0c8",
   "metadata": {
    "collapsed": true,
    "pycharm": {
     "name": "#%% md\n"
    }
   },
   "source": [
    "## Метод градиентного спуска\n",
    " \n",
    "Найден параметры логистической регресси для нашей тестовой задачи с помощью метода градиентного спуска"
   ]
  },
  {
   "cell_type": "code",
   "execution_count": 12,
   "id": "fd3b92bb",
   "metadata": {
    "pycharm": {
     "name": "#%%\n"
    }
   },
   "outputs": [],
   "source": [
    "def sigma(z):\n",
    "    return 1/(1+np.exp(-z))\n",
    "\n",
    "def grad(y, X, theta):\n",
    "    n = y.shape[0]\n",
    "    return 1/n * X.transpose() @ (sigma(X @ theta) - y)\n",
    "\n",
    "def L(y, X, theta):\n",
    "    n = y.shape[0]\n",
    "    return -1/(n)*np.sum(y*np.log(sigma(X @ theta)) + (1 - y)*np.log(1 - sigma(X @ theta)))\n",
    "\n",
    "def fit(y, X, theta_0, alpha=0.001, nsteps = 100):\n",
    "    theta = np.copy(theta_0)\n",
    "    loss = [L(y, X, theta)]\n",
    "    for i in range(nsteps):\n",
    "        theta -= alpha*grad(y, X, theta)\n",
    "        loss.append(L(y, X, theta))\n",
    "    return loss, theta"
   ]
  },
  {
   "cell_type": "markdown",
   "id": "ad39234d",
   "metadata": {
    "pycharm": {
     "name": "#%% md\n"
    }
   },
   "source": [
    "## Предобработка данных\n",
    "\n",
    "Для лучшей сходимости метода проведем нормализацию признаков."
   ]
  },
  {
   "cell_type": "code",
   "execution_count": 13,
   "id": "2f186a27",
   "metadata": {
    "pycharm": {
     "name": "#%%\n"
    }
   },
   "outputs": [],
   "source": [
    "X = ds[['variance', 'skewness']]\n",
    "y = ds['class']\n",
    "\n",
    "X_mean = np.mean(X, axis=0)\n",
    "X_std = np.std(X, axis=0)\n",
    "\n",
    "norm_X = (X - X_mean)/X_std"
   ]
  },
  {
   "cell_type": "code",
   "execution_count": 32,
   "id": "99961699",
   "metadata": {
    "pycharm": {
     "name": "#%%\n"
    }
   },
   "outputs": [
    {
     "name": "stderr",
     "output_type": "stream",
     "text": [
      "/home/leon/Projects/Programming/Study/Python/ML_Study/Linear Models/venv/lib/python3.7/site-packages/ipykernel_launcher.py:10: FutureWarning: Support for multi-dimensional indexing (e.g. `obj[:, None]`) is deprecated and will be removed in a future version.  Convert to a numpy array before indexing instead.\n",
      "  # Remove the CWD from sys.path while we load stuff.\n",
      "100%|██████████| 100/100 [00:04<00:00, 22.17it/s]\n"
     ]
    }
   ],
   "source": [
    "from Logistic_Regression import LogisticRegression\n",
    "\n",
    "n = len(X)\n",
    "X = np.hstack((np.ones((n, 1)), norm_X))\n",
    "m = 2\n",
    "theta_0 = np.zeros(m + 1)\n",
    "loss_history, theta_star = fit(y, X, theta_0, alpha=1e-2, nsteps=5000)\n",
    "\n",
    "lr = LogisticRegression()\n",
    "lr.fit(X[:, 1:3], y[:, np.newaxis], 2)\n",
    "lr.train(lr=0.01, iter=100, L1=0.1, L2=0.1)\n",
    "\n"
   ]
  },
  {
   "cell_type": "code",
   "execution_count": 34,
   "id": "84d9c412",
   "metadata": {
    "pycharm": {
     "name": "#%%\n"
    }
   },
   "outputs": [
    {
     "data": {
      "text/plain": "<Figure size 432x288 with 1 Axes>",
      "image/png": "[encoded data removed]"
     },
     "metadata": {
      "needs_background": "light"
     },
     "output_type": "display_data"
    }
   ],
   "source": [
    "plt.plot(loss_history)\n",
    "plt.xlabel('$k$')\n",
    "plt.ylabel('$L(\\\\theta^{(k)})$')\n",
    "plt.title('Кривая обучения');"
   ]
  },
  {
   "cell_type": "markdown",
   "id": "83e59ac3",
   "metadata": {
    "pycharm": {
     "name": "#%% md\n"
    }
   },
   "source": [
    "Построим получившуюся разделяющую гиперплоскость с параметрами $\\theta^*$"
   ]
  },
  {
   "cell_type": "code",
   "execution_count": 35,
   "id": "90e829f1",
   "metadata": {
    "pycharm": {
     "name": "#%%\n"
    }
   },
   "outputs": [
    {
     "data": {
      "text/plain": "array([-0.37417584, -2.64253207, -1.34393351])"
     },
     "execution_count": 35,
     "metadata": {},
     "output_type": "execute_result"
    }
   ],
   "source": [
    "theta_star"
   ]
  },
  {
   "cell_type": "code",
   "execution_count": 36,
   "id": "1240d1e3",
   "metadata": {
    "pycharm": {
     "name": "#%%\n"
    }
   },
   "outputs": [
    {
     "data": {
      "text/plain": "<Figure size 432x288 with 1 Axes>",
      "image/png": "[encoded data removed]"
     },
     "metadata": {
      "needs_background": "light"
     },
     "output_type": "display_data"
    }
   ],
   "source": [
    "\n",
    "\n",
    "x_tmp = np.linspace(-6, 6, 100)\n",
    "y_tmp = - (theta_star[0] + (x_tmp - X_mean[0])/X_std[0]*theta_star[1])/theta_star[2]\n",
    "\n",
    "plt.plot(x_tmp, X_std[1]*y_tmp + X_mean[1] , color=\"green\", alpha=0.8, linestyle='--')\n",
    "plt.ylim((-15, 15));"
   ]
  },
  {
   "cell_type": "markdown",
   "id": "763e35bf",
   "metadata": {
    "pycharm": {
     "name": "#%% md\n"
    }
   },
   "source": [
    "Вычислим число правильных ответов для получившегося классификатора"
   ]
  },
  {
   "cell_type": "code",
   "execution_count": null,
   "id": "df4afae5",
   "metadata": {
    "pycharm": {
     "name": "#%%\n"
    }
   },
   "outputs": [],
   "source": [
    "y_pred = X @ theta_star > 0\n",
    "logreg_score = accuracy_score(y, y_pred)\n",
    "print(f'Logistic Regression accuracy: {logreg_score:.3f}')"
   ]
  },
  {
   "cell_type": "markdown",
   "id": "b4d7cbed",
   "metadata": {
    "pycharm": {
     "name": "#%% md\n"
    }
   },
   "source": [
    "## Нелинейная разделяющая поверхность\n",
    "\n",
    "В качестве примера задачи классификации, который требует построения нелинейных разделяющих поверхностей, рассмотрим набора данных с результатами тестов микропроцессоров."
   ]
  },
  {
   "cell_type": "code",
   "execution_count": null,
   "id": "24186131",
   "metadata": {
    "pycharm": {
     "name": "#%%\n"
    }
   },
   "outputs": [],
   "source": [
    "microchip = pd.read_csv(\n",
    "    '../datasets/microchip_test.csv',\n",
    "    names=['Test1', 'Test2', 'Passed'],\n",
    ")"
   ]
  },
  {
   "cell_type": "code",
   "execution_count": null,
   "id": "de37517c",
   "metadata": {
    "pycharm": {
     "name": "#%%\n"
    }
   },
   "outputs": [],
   "source": [
    "sns.scatterplot(x='Test1', y='Test2', hue='Passed', data=microchip, s=100);"
   ]
  },
  {
   "cell_type": "markdown",
   "id": "51cab7b9",
   "metadata": {
    "pycharm": {
     "name": "#%% md\n"
    }
   },
   "source": [
    "На рисунке хорошо видно, что разделяющая граница должна иметь нелинейный вид. Попробуем добавить квадратичные признаки в наш набор данных.\n",
    "$$\n",
    "x' = \\begin{pmatrix}1 & x_1 & x_2 & x_1^2 & x_1 x_2 & x_2^2\\end{pmatrix}.\n",
    "$$"
   ]
  },
  {
   "cell_type": "code",
   "execution_count": null,
   "id": "3e56a755",
   "metadata": {
    "pycharm": {
     "name": "#%%\n"
    }
   },
   "outputs": [],
   "source": [
    "n = len(microchip)\n",
    "m = 2\n",
    "tmpX = np.ones((n, m))\n",
    "X = np.zeros((n, 2*(m+1)))\n",
    "tmpX[:] = microchip[['Test1', 'Test2']]\n",
    "for i in range(n):\n",
    "    X[i, :] = np.array([1, tmpX[i, 0], tmpX[i, 1], tmpX[i, 0]**2, tmpX[i, 0]*tmpX[i, 1], tmpX[i, 1]**2])\n",
    "y = microchip['Passed'].values"
   ]
  },
  {
   "cell_type": "code",
   "execution_count": null,
   "id": "c1f9e82c",
   "metadata": {
    "pycharm": {
     "name": "#%%\n"
    }
   },
   "outputs": [],
   "source": [
    "theta_0 = np.zeros(2*(m+1))\n",
    "loss_history, theta_star = fit(y, X, theta_0, alpha=1e-1, nsteps=20000)"
   ]
  },
  {
   "cell_type": "code",
   "execution_count": null,
   "id": "4fc4255c",
   "metadata": {
    "pycharm": {
     "name": "#%%\n"
    }
   },
   "outputs": [],
   "source": [
    "plt.plot(loss_history)\n",
    "plt.xlabel('$k$')\n",
    "plt.ylabel('$L(\\\\theta^{(k)})$')\n",
    "plt.title('Кривая обучения');"
   ]
  },
  {
   "cell_type": "markdown",
   "id": "9954c9ac",
   "metadata": {
    "pycharm": {
     "name": "#%% md\n"
    }
   },
   "source": [
    "## Разделяющая кривая"
   ]
  },
  {
   "cell_type": "code",
   "execution_count": null,
   "id": "b6508431",
   "metadata": {
    "pycharm": {
     "name": "#%%\n"
    }
   },
   "outputs": [],
   "source": [
    "import warnings\n",
    "warnings.filterwarnings('ignore')\n",
    "npoints = 500\n",
    "x1 = np.linspace(-1.0, 1.25, npoints)\n",
    "x2 = np.linspace(-1.0, 1.25, npoints)\n",
    "xx1, xx2 = np.meshgrid(x1, x2)\n",
    "\n",
    "def decision_func(x, theta):\n",
    "    return theta[0] + theta[1]*x[0] + theta[2]*x[1] + theta[3]*x[0]**2 + theta[4]*x[0]*x[1] + theta[5]*x[1]**2\n",
    "\n",
    "points = np.c_[xx1.ravel(), xx2.ravel()]\n",
    "Z = np.array([1 if decision_func(x, theta_star) > 0 else 0 for x in points])\n",
    "Z = Z.reshape(xx1.shape)\n",
    "\n",
    "sns.scatterplot(x='Test1', y='Test2', hue='Passed', data=microchip, s=100);\n",
    "plt.contour(xx1, xx2, Z, levels=[0], colors='green', alpha=0.6, linestyles='--');"
   ]
  },
  {
   "cell_type": "markdown",
   "id": "e859cf65",
   "metadata": {
    "pycharm": {
     "name": "#%% md\n"
    }
   },
   "source": [
    "## Источники\n",
    "\n",
    "1. *Christopher M. Bishop.* Pattern Recognition and Machine Learning. Logistic regression. pp. 205\n",
    "2. *Andrew Ng.* Logistic Regression - [coursera](https://www.coursera.org/learn/machine-learning/home/week/3)\n",
    "3. *К. В. Воронцов* Линейные методы классификации: метод стохастического градиента - [video](https://yandexdataschool.ru/edu-process/courses/machine-learning#item-4), [slides](http://www.machinelearning.ru/wiki/index.php?title=Машинное_обучение_%28курс_лекций%2C_К.В.Воронцов%29#.D0.93.D1.80.D0.B0.D0.B4.D0.B8.D0.B5.D0.BD.D1.82.D0.BD.D1.8B.D0.B5_.D0.BC.D0.B5.D1.82.D0.BE.D0.B4.D1.8B_.D0.BE.D0.B1.D1.83.D1.87.D0.B5.D0.BD.D0.B8.D1.8F)\n",
    "3. *Ю. Кашницкий.* Открытый курс машинного обучения. Тема 4. Линейные модели классификации и регрессии - [habr](https://habrahabr.ru/company/ods/blog/323890/)\n"
   ]
  },
  {
   "cell_type": "code",
   "execution_count": null,
   "id": "e27eb0a2",
   "metadata": {
    "pycharm": {
     "name": "#%%\n"
    }
   },
   "outputs": [],
   "source": []
  }
 ],
 "metadata": {
  "kernelspec": {
   "display_name": "Python 3 (ipykernel)",
   "language": "python",
   "name": "python3"
  },
  "language_info": {
   "codemirror_mode": {
    "name": "ipython",
    "version": 3
   },
   "file_extension": ".py",
   "mimetype": "text/x-python",
   "name": "python",
   "nbconvert_exporter": "python",
   "pygments_lexer": "ipython3",
   "version": "3.8.9"
  }
 },
 "nbformat": 4,
 "nbformat_minor": 5
}