{
 "cells": [
  {
   "cell_type": "markdown",
   "source": [],
   "metadata": {
    "collapsed": false,
    "pycharm": {
     "name": "#%% md\n"
    }
   }
  },
  {
   "cell_type": "markdown",
   "source": [
    "# Import all libraries"
   ],
   "metadata": {
    "collapsed": false,
    "pycharm": {
     "name": "#%% md\n"
    }
   }
  },
  {
   "cell_type": "code",
   "execution_count": 216,
   "outputs": [],
   "source": [
    "from Mnist_Classifier_CNN import MNIST_CNN\n",
    "from Mnist_Classifier_NN import MNIST_NN\n",
    "\n",
    "import random\n",
    "from tqdm import tqdm\n",
    "import torch\n",
    "import torch.nn as nn\n",
    "from torchsummary import summary\n",
    "import torchvision\n",
    "import matplotlib.pyplot as plt\n",
    "from sklearn.metrics import mean_squared_error as mse"
   ],
   "metadata": {
    "collapsed": false,
    "pycharm": {
     "name": "#%%\n"
    }
   }
  },
  {
   "cell_type": "markdown",
   "source": [],
   "metadata": {
    "collapsed": false,
    "pycharm": {
     "name": "#%% md\n"
    }
   }
  },
  {
   "cell_type": "markdown",
   "source": [
    "### Check if GPU is available"
   ],
   "metadata": {
    "collapsed": false,
    "pycharm": {
     "name": "#%% md\n"
    }
   }
  },
  {
   "cell_type": "markdown",
   "source": [],
   "metadata": {
    "collapsed": false,
    "pycharm": {
     "name": "#%% md\n"
    }
   }
  },
  {
   "cell_type": "code",
   "execution_count": 217,
   "outputs": [
    {
     "name": "stdout",
     "output_type": "stream",
     "text": [
      "Tue Sep  6 17:42:07 2022       \r\n",
      "+-----------------------------------------------------------------------------+\r\n",
      "| NVIDIA-SMI 515.65.01    Driver Version: 515.65.01    CUDA Version: 11.7     |\r\n",
      "|-------------------------------+----------------------+----------------------+\r\n",
      "| GPU  Name        Persistence-M| Bus-Id        Disp.A | Volatile Uncorr. ECC |\r\n",
      "| Fan  Temp  Perf  Pwr:Usage/Cap|         Memory-Usage | GPU-Util  Compute M. |\r\n",
      "|                               |                      |               MIG M. |\r\n",
      "|===============================+======================+======================|\r\n",
      "|   0  NVIDIA GeForce ...  Off  | 00000000:01:00.0 Off |                  N/A |\r\n",
      "| N/A   45C    P3    16W /  N/A |   1622MiB /  4096MiB |     18%      Default |\r\n",
      "|                               |                      |                  N/A |\r\n",
      "+-------------------------------+----------------------+----------------------+\r\n",
      "                                                                               \r\n",
      "+-----------------------------------------------------------------------------+\r\n",
      "| Processes:                                                                  |\r\n",
      "|  GPU   GI   CI        PID   Type   Process name                  GPU Memory |\r\n",
      "|        ID   ID                                                   Usage      |\r\n",
      "|=============================================================================|\r\n",
      "|    0   N/A  N/A       609      G   /usr/lib/Xorg                     297MiB |\r\n",
      "|    0   N/A  N/A       778      G   /usr/bin/kwin_x11                 105MiB |\r\n",
      "|    0   N/A  N/A       799      G   /usr/bin/plasmashell               59MiB |\r\n",
      "|    0   N/A  N/A       990      G   /usr/bin/latte-dock                14MiB |\r\n",
      "|    0   N/A  N/A      1088      G   /usr/bin/ktorrent                   1MiB |\r\n",
      "|    0   N/A  N/A      2465      G   /usr/bin/konqueror                 34MiB |\r\n",
      "|    0   N/A  N/A      4515      G   ...751555723163520524,131072      114MiB |\r\n",
      "|    0   N/A  N/A      4665      G   /usr/bin/telegram-desktop           1MiB |\r\n",
      "|    0   N/A  N/A      5384      G   ...f_5282.log --shared-files        9MiB |\r\n",
      "|    0   N/A  N/A     11078      C   ..._Learning/venv/bin/python      971MiB |\r\n",
      "+-----------------------------------------------------------------------------+\r\n",
      "NVIDIA GeForce GTX 1650 Ti\n"
     ]
    }
   ],
   "source": [
    "device = torch.device('cuda' if torch.cuda.is_available() else 'cpu')\n",
    "if device.type == 'cuda':\n",
    "    !nvidia-smi\n",
    "    print(torch.cuda.get_device_name(0))\n",
    "\n",
    "else:\n",
    "    print(\"No GPU :(\")\n"
   ],
   "metadata": {
    "collapsed": false,
    "pycharm": {
     "name": "#%%\n"
    }
   }
  },
  {
   "cell_type": "markdown",
   "source": [
    "# Load MNIST dataset"
   ],
   "metadata": {
    "collapsed": false,
    "pycharm": {
     "name": "#%% md\n"
    }
   }
  },
  {
   "cell_type": "code",
   "execution_count": 218,
   "outputs": [],
   "source": [
    "dataset = torchvision.datasets.MNIST(root = 'datasets', train = True, download = True, transform=torchvision.transforms.ToTensor())"
   ],
   "metadata": {
    "collapsed": false,
    "pycharm": {
     "name": "#%%\n"
    }
   }
  },
  {
   "cell_type": "markdown",
   "source": [],
   "metadata": {
    "collapsed": false,
    "pycharm": {
     "name": "#%% md\n"
    }
   }
  },
  {
   "cell_type": "markdown",
   "source": [
    "#### Get and visualize random individual"
   ],
   "metadata": {
    "collapsed": false,
    "pycharm": {
     "name": "#%% md\n"
    }
   }
  },
  {
   "cell_type": "code",
   "execution_count": 219,
   "outputs": [
    {
     "data": {
      "text/plain": "<Figure size 432x288 with 1 Axes>",
      "image/png": "[encoded data removed]"
     },
     "metadata": {
      "needs_background": "light"
     },
     "output_type": "display_data"
    }
   ],
   "source": [
    "rand_individ = random.randint(0, 60_000)\n",
    "img = dataset[rand_individ][0].view((28, 28))\n",
    "ans = dataset[rand_individ][1]\n",
    "plt.imshow(img, cmap='Greys')\n",
    "plt.xlabel(f\"NUMBER: {ans}\")\n",
    "pass"
   ],
   "metadata": {
    "collapsed": false,
    "pycharm": {
     "name": "#%%\n"
    }
   }
  },
  {
   "cell_type": "markdown",
   "source": [
    "# Prepare and split data into train/test"
   ],
   "metadata": {
    "collapsed": false,
    "pycharm": {
     "name": "#%% md\n"
    }
   }
  },
  {
   "cell_type": "code",
   "execution_count": 220,
   "outputs": [],
   "source": [
    "split_ratio = 0.90\n",
    "batch_size = 50\n",
    "train_size = round(len(dataset) * split_ratio)\n",
    "valid_size = len(dataset) - train_size\n",
    "\n",
    "train, valid = torch.utils.data.random_split(dataset, [train_size, valid_size])\n",
    "\n",
    "train_batch_loader = torch.utils.data.DataLoader2(train, batch_size=batch_size, collate_fn=lambda x: tuple(x_.to(device) for x_ in torch.utils.data.dataloader.default_collate(x)))\n",
    "valid_batch_loader = torch.utils.data.DataLoader2(valid, batch_size=batch_size, collate_fn=lambda x: tuple(x_.to(device) for x_ in torch.utils.data.dataloader.default_collate(x)))"
   ],
   "metadata": {
    "collapsed": false,
    "pycharm": {
     "name": "#%%\n"
    }
   }
  },
  {
   "cell_type": "markdown",
   "source": [
    "# Configure NN Model and hyper-parameters"
   ],
   "metadata": {
    "collapsed": false,
    "pycharm": {
     "name": "#%% md\n"
    }
   }
  },
  {
   "cell_type": "code",
   "execution_count": 221,
   "outputs": [
    {
     "name": "stdout",
     "output_type": "stream",
     "text": [
      "----------------------------------------------------------------\n",
      "        Layer (type)               Output Shape         Param #\n",
      "================================================================\n",
      "            Linear-1                  [50, 512]         401,920\n",
      "              ReLU-2                  [50, 512]               0\n",
      "            Linear-3                  [50, 256]         131,328\n",
      "              ReLU-4                  [50, 256]               0\n",
      "            Linear-5                   [50, 10]           2,570\n",
      "================================================================\n",
      "Total params: 535,818\n",
      "Trainable params: 535,818\n",
      "Non-trainable params: 0\n",
      "----------------------------------------------------------------\n",
      "Input size (MB): 0.15\n",
      "Forward/backward pass size (MB): 0.59\n",
      "Params size (MB): 2.04\n",
      "Estimated Total Size (MB): 2.78\n",
      "----------------------------------------------------------------\n"
     ]
    }
   ],
   "source": [
    "mnist_nn = MNIST_NN(28*28, 10).to(device)\n",
    "\n",
    "epochs = 5\n",
    "loss_func = nn.CrossEntropyLoss()\n",
    "optimizer = torch.optim.ASGD(mnist_nn.parameters(), lr=0.8)\n",
    "\n",
    "history = []\n",
    "summary(mnist_nn, (28*28,), batch_size=batch_size)"
   ],
   "metadata": {
    "collapsed": false,
    "pycharm": {
     "name": "#%%\n"
    }
   }
  },
  {
   "cell_type": "markdown",
   "source": [
    "# Train loop"
   ],
   "metadata": {
    "collapsed": false,
    "pycharm": {
     "name": "#%% md\n"
    }
   }
  },
  {
   "cell_type": "code",
   "execution_count": 222,
   "outputs": [
    {
     "name": "stderr",
     "output_type": "stream",
     "text": [
      "100%|██████████| 1080/1080 [00:08<00:00, 129.83it/s]\n",
      "100%|██████████| 1080/1080 [00:08<00:00, 130.44it/s]\n",
      "100%|██████████| 1080/1080 [00:08<00:00, 131.17it/s]\n",
      "100%|██████████| 1080/1080 [00:07<00:00, 140.72it/s]\n",
      "100%|██████████| 1080/1080 [00:06<00:00, 162.45it/s]\n"
     ]
    }
   ],
   "source": [
    "for epoch in range(0, epochs):\n",
    "    for i, (features, ans) in enumerate(tqdm(train_batch_loader)):\n",
    "        # Forward pass\n",
    "        Y_pred = mnist_nn.forward(features.view(-1, 28*28))\n",
    "\n",
    "        loss = loss_func(Y_pred, ans)\n",
    "\n",
    "        # Backward pass\n",
    "        loss.backward()\n",
    "        optimizer.step()\n",
    "        optimizer.zero_grad()\n",
    "\n",
    "        if i % 3 == 0: history.append(loss.data)"
   ],
   "metadata": {
    "collapsed": false,
    "pycharm": {
     "name": "#%%\n"
    }
   }
  },
  {
   "cell_type": "code",
   "execution_count": 223,
   "outputs": [
    {
     "name": "stdout",
     "output_type": "stream",
     "text": [
      "Mean CrossEntropyLoss (last 100): 0.03481148183345795\n"
     ]
    },
    {
     "data": {
      "text/plain": "<Figure size 432x288 with 1 Axes>",
      "image/png": "[encoded data removed]"
     },
     "metadata": {
      "needs_background": "light"
     },
     "output_type": "display_data"
    }
   ],
   "source": [
    "plt.plot(list(map(lambda x: x.cpu(), history)))\n",
    "print(f\"Mean CrossEntropyLoss (last 100): {sum(history[-100:]) / 100}\")"
   ],
   "metadata": {
    "collapsed": false,
    "pycharm": {
     "name": "#%%\n"
    }
   }
  },
  {
   "cell_type": "markdown",
   "source": [
    "# Validation"
   ],
   "metadata": {
    "collapsed": false,
    "pycharm": {
     "name": "#%% md\n"
    }
   }
  },
  {
   "cell_type": "code",
   "execution_count": 224,
   "outputs": [
    {
     "name": "stderr",
     "output_type": "stream",
     "text": [
      "100%|██████████| 120/120 [00:00<00:00, 210.13it/s]"
     ]
    },
    {
     "name": "stdout",
     "output_type": "stream",
     "text": [
      "MSE: 0.04415731504559517\n"
     ]
    },
    {
     "name": "stderr",
     "output_type": "stream",
     "text": [
      "\n"
     ]
    }
   ],
   "source": [
    "with torch.no_grad():\n",
    "    answers = torch.zeros(10).to(device)\n",
    "    predictions = torch.zeros(10).to(device)\n",
    "\n",
    "    for i, (features, ans) in enumerate(tqdm(valid_batch_loader)):\n",
    "        predictions = torch.vstack((predictions, nn.functional.normalize(mnist_nn(features.view(-1, 28*28)))))\n",
    "\n",
    "        # Convert to one-hot encoded\n",
    "        ans = nn.functional.one_hot(ans, num_classes=10)\n",
    "\n",
    "        answers = torch.vstack((answers, ans))\n",
    "\n",
    "    print(f\"MSE: {mse(predictions.T.cpu(), answers.T.cpu())}\")\n"
   ],
   "metadata": {
    "collapsed": false,
    "pycharm": {
     "name": "#%%\n"
    }
   }
  },
  {
   "cell_type": "markdown",
   "source": [
    "# Visualisation test"
   ],
   "metadata": {
    "collapsed": false,
    "pycharm": {
     "name": "#%% md\n"
    }
   }
  },
  {
   "cell_type": "code",
   "execution_count": 225,
   "outputs": [
    {
     "data": {
      "text/plain": "<Figure size 432x288 with 1 Axes>",
      "image/png": "[encoded data removed]"
     },
     "metadata": {
      "needs_background": "light"
     },
     "output_type": "display_data"
    }
   ],
   "source": [
    "rand_individ = random.randint(0, 60_000)\n",
    "img = dataset[rand_individ][0].view((28, 28))\n",
    "ans = dataset[rand_individ][1]\n",
    "\n",
    "\n",
    "with torch.no_grad():\n",
    "    pred = mnist_nn(img.to(device).view(-1)).argmax()\n",
    "\n",
    "plt.imshow(img, cmap='Greys')\n",
    "plt.xlabel(f\"PREDICTION: {pred}, ANSWER {ans}\")\n",
    "pass "
   ],
   "metadata": {
    "collapsed": false,
    "pycharm": {
     "name": "#%%\n"
    }
   }
  },
  {
   "cell_type": "markdown",
   "source": [
    "# Configure CNN Model and hyper-parameters"
   ],
   "metadata": {
    "collapsed": false,
    "pycharm": {
     "name": "#%% md\n"
    }
   }
  },
  {
   "cell_type": "code",
   "execution_count": 226,
   "outputs": [
    {
     "name": "stdout",
     "output_type": "stream",
     "text": [
      "----------------------------------------------------------------\n",
      "        Layer (type)               Output Shape         Param #\n",
      "================================================================\n",
      "            Conv2d-1           [50, 10, 26, 26]             100\n",
      "              ReLU-2           [50, 10, 26, 26]               0\n",
      "            Conv2d-3           [50, 30, 24, 24]           2,730\n",
      "              ReLU-4           [50, 30, 24, 24]               0\n",
      "         MaxPool2d-5           [50, 30, 12, 12]               0\n",
      "            Conv2d-6           [50, 50, 10, 10]          13,550\n",
      "              ReLU-7           [50, 50, 10, 10]               0\n",
      "         MaxPool2d-8             [50, 50, 5, 5]               0\n",
      "            Linear-9                  [50, 250]         312,750\n",
      "             ReLU-10                  [50, 250]               0\n",
      "           Linear-11                   [50, 10]           2,510\n",
      "================================================================\n",
      "Total params: 331,640\n",
      "Trainable params: 331,640\n",
      "Non-trainable params: 0\n",
      "----------------------------------------------------------------\n",
      "Input size (MB): 0.15\n",
      "Forward/backward pass size (MB): 24.48\n",
      "Params size (MB): 1.27\n",
      "Estimated Total Size (MB): 25.89\n",
      "----------------------------------------------------------------\n"
     ]
    }
   ],
   "source": [
    "mnist_cnn = MNIST_CNN().to(device)\n",
    "\n",
    "epochs = 2\n",
    "loss_func = nn.CrossEntropyLoss()\n",
    "optimizer = torch.optim.Adam(mnist_cnn.parameters(), lr=0.01)\n",
    "\n",
    "history = []\n",
    "summary(mnist_cnn, (1, 28, 28), batch_size=batch_size)"
   ],
   "metadata": {
    "collapsed": false,
    "pycharm": {
     "name": "#%%\n"
    }
   }
  },
  {
   "cell_type": "markdown",
   "source": [
    "# Train loop"
   ],
   "metadata": {
    "collapsed": false,
    "pycharm": {
     "name": "#%% md\n"
    }
   }
  },
  {
   "cell_type": "code",
   "execution_count": 227,
   "outputs": [
    {
     "name": "stderr",
     "output_type": "stream",
     "text": [
      "100%|██████████| 1080/1080 [00:08<00:00, 127.98it/s]\n",
      "100%|██████████| 1080/1080 [00:09<00:00, 112.45it/s]\n"
     ]
    }
   ],
   "source": [
    "for epoch in range(0, epochs):\n",
    "    for i, (features, ans) in enumerate(tqdm(train_batch_loader)):\n",
    "        # Forward pass\n",
    "        Y_pred = mnist_cnn.forward(features.view(-1, 1, 28, 28))\n",
    "        # print(Y_pred.shape)\n",
    "\n",
    "        loss = loss_func(Y_pred, ans)\n",
    "\n",
    "        # Backward pass\n",
    "        loss.backward()\n",
    "        optimizer.step()\n",
    "        optimizer.zero_grad()\n",
    "\n",
    "        if i % 3 == 0: history.append(loss.data)"
   ],
   "metadata": {
    "collapsed": false,
    "pycharm": {
     "name": "#%%\n"
    }
   }
  },
  {
   "cell_type": "code",
   "execution_count": 228,
   "outputs": [
    {
     "name": "stdout",
     "output_type": "stream",
     "text": [
      "Mean CrossEntropyLoss (last 100): 0.06815779209136963\n"
     ]
    },
    {
     "data": {
      "text/plain": "<Figure size 432x288 with 1 Axes>",
      "image/png": "[encoded data removed]"
     },
     "metadata": {
      "needs_background": "light"
     },
     "output_type": "display_data"
    }
   ],
   "source": [
    "plt.plot(list(map(lambda x: x.cpu(), history)))\n",
    "print(f\"Mean CrossEntropyLoss (last 100): {sum(history[-100:]) / 100}\")"
   ],
   "metadata": {
    "collapsed": false,
    "pycharm": {
     "name": "#%%\n"
    }
   }
  },
  {
   "cell_type": "markdown",
   "source": [
    "# Validation"
   ],
   "metadata": {
    "collapsed": false,
    "pycharm": {
     "name": "#%% md\n"
    }
   }
  },
  {
   "cell_type": "code",
   "execution_count": 229,
   "outputs": [
    {
     "name": "stderr",
     "output_type": "stream",
     "text": [
      "100%|██████████| 120/120 [00:00<00:00, 154.32it/s]"
     ]
    },
    {
     "name": "stdout",
     "output_type": "stream",
     "text": [
      "MSE: 0.09239758551120758\n"
     ]
    },
    {
     "name": "stderr",
     "output_type": "stream",
     "text": [
      "\n"
     ]
    }
   ],
   "source": [
    "with torch.no_grad():\n",
    "    answers = torch.zeros(10).to(device)\n",
    "    predictions = torch.zeros(10).to(device)\n",
    "\n",
    "    for i, (features, ans) in enumerate(tqdm(valid_batch_loader)):\n",
    "        predictions = torch.vstack((predictions, nn.functional.normalize(mnist_cnn(features.view(-1, 1, 28, 28)))))\n",
    "\n",
    "        # Convert to one-hot encoded\n",
    "        ans = nn.functional.one_hot(ans, num_classes=10)\n",
    "\n",
    "        answers = torch.vstack((answers, ans))\n",
    "\n",
    "    print(f\"MSE: {mse(predictions.T.cpu(), answers.T.cpu())}\")"
   ],
   "metadata": {
    "collapsed": false,
    "pycharm": {
     "name": "#%%\n"
    }
   }
  }
 ],
 "metadata": {
  "kernelspec": {
   "display_name": "Python 3",
   "language": "python",
   "name": "python3"
  },
  "language_info": {
   "codemirror_mode": {
    "name": "ipython",
    "version": 2
   },
   "file_extension": ".py",
   "mimetype": "text/x-python",
   "name": "python",
   "nbconvert_exporter": "python",
   "pygments_lexer": "ipython2",
   "version": "2.7.6"
  }
 },
 "nbformat": 4,
 "nbformat_minor": 0
}